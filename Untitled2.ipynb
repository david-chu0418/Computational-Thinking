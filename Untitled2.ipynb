{
  "nbformat": 4,
  "nbformat_minor": 0,
  "metadata": {
    "colab": {
      "name": "Untitled2.ipynb",
      "provenance": [],
      "authorship_tag": "ABX9TyOWZ+86+ecoYcO73kNclJ68",
      "include_colab_link": true
    },
    "kernelspec": {
      "name": "python3",
      "display_name": "Python 3"
    }
  },
  "cells": [
    {
      "cell_type": "markdown",
      "metadata": {
        "id": "view-in-github",
        "colab_type": "text"
      },
      "source": [
        "<a href=\"https://colab.research.google.com/github/david-chu0418/Computational-Thinking/blob/master/Untitled2.ipynb\" target=\"_parent\"><img src=\"https://colab.research.google.com/assets/colab-badge.svg\" alt=\"Open In Colab\"/></a>"
      ]
    },
    {
      "cell_type": "code",
      "metadata": {
        "id": "zwLkAf2KbXDf",
        "outputId": "557eb4c0-db99-47d5-aab2-cef4139a1208",
        "colab": {
          "base_uri": "https://localhost:8080/"
        }
      },
      "source": [
        "x=2\n",
        "y=5\n",
        "print(x + y)\n",
        "print(x - y)\n",
        "print(x * y)\n",
        "print(x / y)\n",
        "print(x // y)\n",
        "print(x % y)\n",
        "print(x ** y)"
      ],
      "execution_count": 1,
      "outputs": [
        {
          "output_type": "stream",
          "text": [
            "7\n",
            "-3\n",
            "10\n",
            "0.4\n",
            "0\n",
            "2\n",
            "32\n"
          ],
          "name": "stdout"
        }
      ]
    },
    {
      "cell_type": "code",
      "metadata": {
        "id": "dBaBiE1kbjlj",
        "outputId": "02af03d8-f52e-4d3d-9b53-38505ab4ad36",
        "colab": {
          "base_uri": "https://localhost:8080/",
          "height": 52
        }
      },
      "source": [
        "input()"
      ],
      "execution_count": 2,
      "outputs": [
        {
          "output_type": "stream",
          "text": [
            "3\n"
          ],
          "name": "stdout"
        },
        {
          "output_type": "execute_result",
          "data": {
            "application/vnd.google.colaboratory.intrinsic+json": {
              "type": "string"
            },
            "text/plain": [
              "'3'"
            ]
          },
          "metadata": {
            "tags": []
          },
          "execution_count": 2
        }
      ]
    },
    {
      "cell_type": "code",
      "metadata": {
        "id": "q53UD3Gsbs10",
        "outputId": "f9664012-b6b6-400f-cdb1-2c1596aa5b8f",
        "colab": {
          "base_uri": "https://localhost:8080/"
        }
      },
      "source": [
        "x=input(\"請輸入數字?\")"
      ],
      "execution_count": 4,
      "outputs": [
        {
          "output_type": "stream",
          "text": [
            "請輸入數字?3\n"
          ],
          "name": "stdout"
        }
      ]
    },
    {
      "cell_type": "code",
      "metadata": {
        "id": "ykw1EYFCcGLf",
        "outputId": "b81d13e4-838b-49b0-ff61-56f2470f1731",
        "colab": {
          "base_uri": "https://localhost:8080/",
          "height": 35
        }
      },
      "source": [
        "x"
      ],
      "execution_count": 5,
      "outputs": [
        {
          "output_type": "execute_result",
          "data": {
            "application/vnd.google.colaboratory.intrinsic+json": {
              "type": "string"
            },
            "text/plain": [
              "'3'"
            ]
          },
          "metadata": {
            "tags": []
          },
          "execution_count": 5
        }
      ]
    },
    {
      "cell_type": "code",
      "metadata": {
        "id": "Bniz_W2GcLB8",
        "outputId": "0952c574-115d-4498-bb41-711363958242",
        "colab": {
          "base_uri": "https://localhost:8080/"
        }
      },
      "source": [
        "print(x)"
      ],
      "execution_count": 6,
      "outputs": [
        {
          "output_type": "stream",
          "text": [
            "3\n"
          ],
          "name": "stdout"
        }
      ]
    },
    {
      "cell_type": "code",
      "metadata": {
        "id": "P75MNH4pdwUV",
        "outputId": "509160f4-3ba8-42d9-a305-bffa71c36498",
        "colab": {
          "base_uri": "https://localhost:8080/"
        }
      },
      "source": [
        "print(x, 2, \"python\")"
      ],
      "execution_count": 7,
      "outputs": [
        {
          "output_type": "stream",
          "text": [
            "3 2 python\n"
          ],
          "name": "stdout"
        }
      ]
    },
    {
      "cell_type": "code",
      "metadata": {
        "id": "IBpyMp7jd7NF",
        "outputId": "2b0bc935-79fc-4dd8-c5ce-78a55dccd244",
        "colab": {
          "base_uri": "https://localhost:8080/"
        }
      },
      "source": [
        "x = input(\"請輸入上衣數量?\")"
      ],
      "execution_count": 9,
      "outputs": [
        {
          "output_type": "stream",
          "text": [
            "請輸入上衣數量?5\n"
          ],
          "name": "stdout"
        }
      ]
    },
    {
      "cell_type": "code",
      "metadata": {
        "id": "2mJeYdckeUbJ"
      },
      "source": [
        "x = int(x)"
      ],
      "execution_count": 14,
      "outputs": []
    },
    {
      "cell_type": "code",
      "metadata": {
        "id": "8HbjZiuXedHN"
      },
      "source": [
        "total = 300 * x"
      ],
      "execution_count": 18,
      "outputs": []
    },
    {
      "cell_type": "code",
      "metadata": {
        "id": "nILc9rcreu7t",
        "outputId": "c39ff081-315c-4720-dafc-045317a57d93",
        "colab": {
          "base_uri": "https://localhost:8080/"
        }
      },
      "source": [
        "print(total)"
      ],
      "execution_count": 19,
      "outputs": [
        {
          "output_type": "stream",
          "text": [
            "1500\n"
          ],
          "name": "stdout"
        }
      ]
    },
    {
      "cell_type": "code",
      "metadata": {
        "id": "cMi6ijYmezwa",
        "outputId": "fcf7eeb5-c246-40b6-9eab-ce00ed744163",
        "colab": {
          "base_uri": "https://localhost:8080/"
        }
      },
      "source": [
        "x = int(input(\"請輸入上衣數量? \"))\n",
        "y = int(input(\"請輸入褲子數量? \"))\n",
        "z = int(input(\"請輸入背心的數量? \"))\n",
        "\n",
        "total= 300*x + 350*y + 400*z\n",
        "\n",
        "print(\"訂購服裝的總金額為\" , total)\n"
      ],
      "execution_count": 21,
      "outputs": [
        {
          "output_type": "stream",
          "text": [
            "請輸入上衣數量? 200\n",
            "請輸入褲子數量? 300\n",
            "請輸入背心的數量? 400\n",
            "訂購服裝的總金額為 325000\n"
          ],
          "name": "stdout"
        }
      ]
    },
    {
      "cell_type": "code",
      "metadata": {
        "id": "8XJQPR5UhUKX",
        "outputId": "c2fd05eb-d66c-4a2f-9649-56b9f9574b9b",
        "colab": {
          "base_uri": "https://localhost:8080/"
        }
      },
      "source": [
        "cans = int(input(\"請輸入購買的飲料罐數? \"))\n",
        "total = (cans//12)*200 + (cans%12)*20\n",
        "print(\"需花費\",total)\n",
        "\n"
      ],
      "execution_count": 25,
      "outputs": [
        {
          "output_type": "stream",
          "text": [
            "請輸入購買的飲料罐數? 30\n",
            "需花費 520\n"
          ],
          "name": "stdout"
        }
      ]
    },
    {
      "cell_type": "code",
      "metadata": {
        "id": "Pd0e8HgoiumA",
        "outputId": "0ea0eeba-605c-46cb-dbe9-cc5a7f379518",
        "colab": {
          "base_uri": "https://localhost:8080/"
        }
      },
      "source": [
        "first = int(input(\"請輸入第一次期中考成績? \"))\n",
        "second = int(input(\"請輸入第二次期中考成績? \"))\n",
        "final = int(input(\"請輸入期末考成績? \"))\n",
        "total = first + second + final\n",
        "average = total / 3\n",
        "print(\"總分為\", total, \"平均為\", average)"
      ],
      "execution_count": 26,
      "outputs": [
        {
          "output_type": "stream",
          "text": [
            "請輸入第一次期中考成績? 75\n",
            "請輸入第二次期中考成績? 80\n",
            "請輸入期末考成績? 65\n",
            "總分為 220 平均為 73.33333333333333\n"
          ],
          "name": "stdout"
        }
      ]
    }
  ]
}