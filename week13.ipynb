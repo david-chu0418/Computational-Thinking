{
  "nbformat": 4,
  "nbformat_minor": 0,
  "metadata": {
    "colab": {
      "name": "week13",
      "provenance": [],
      "authorship_tag": "ABX9TyNSDVP7/cojKAVWupi48grT",
      "include_colab_link": true
    },
    "kernelspec": {
      "name": "python3",
      "display_name": "Python 3"
    }
  },
  "cells": [
    {
      "cell_type": "markdown",
      "metadata": {
        "id": "view-in-github",
        "colab_type": "text"
      },
      "source": [
        "<a href=\"https://colab.research.google.com/github/david-chu0418/Computational-Thinking/blob/master/week13.ipynb\" target=\"_parent\"><img src=\"https://colab.research.google.com/assets/colab-badge.svg\" alt=\"Open In Colab\"/></a>"
      ]
    },
    {
      "cell_type": "code",
      "metadata": {
        "colab": {
          "base_uri": "https://localhost:8080/"
        },
        "id": "0qqyFW08jtYq",
        "outputId": "8e60f8ba-64a5-44e0-e5b0-4828aa2ec5bc"
      },
      "source": [
        "for i in range(0,5,1):\r\n",
        "  print(\"hello\")"
      ],
      "execution_count": 1,
      "outputs": [
        {
          "output_type": "stream",
          "text": [
            "hello\n",
            "hello\n",
            "hello\n",
            "hello\n",
            "hello\n"
          ],
          "name": "stdout"
        }
      ]
    },
    {
      "cell_type": "code",
      "metadata": {
        "colab": {
          "base_uri": "https://localhost:8080/"
        },
        "id": "EUzKA4_flUJW",
        "outputId": "51dc55ca-f4b1-4a33-b3f2-9f7e1930114c"
      },
      "source": [
        "for i in range(100,90,-3):\r\n",
        "  print(i)"
      ],
      "execution_count": 2,
      "outputs": [
        {
          "output_type": "stream",
          "text": [
            "100\n",
            "97\n",
            "94\n",
            "91\n"
          ],
          "name": "stdout"
        }
      ]
    },
    {
      "cell_type": "code",
      "metadata": {
        "colab": {
          "base_uri": "https://localhost:8080/"
        },
        "id": "r4T8QTykr2vw",
        "outputId": "ac8e8072-bae8-4761-8c9c-31ae55e4f5b7"
      },
      "source": [
        "sum = 0\r\n",
        "for i in range(3,14,3):\r\n",
        "  sum = sum + i # sum += i\r\n",
        "print(\"total is\",sum)"
      ],
      "execution_count": 9,
      "outputs": [
        {
          "output_type": "stream",
          "text": [
            "total is 30\n"
          ],
          "name": "stdout"
        }
      ]
    }
  ]
}