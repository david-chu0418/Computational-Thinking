{
  "nbformat": 4,
  "nbformat_minor": 0,
  "metadata": {
    "colab": {
      "name": "week12.ipynb",
      "provenance": [],
      "authorship_tag": "ABX9TyPTR9JE5LSIPRRPTDwPWlWm",
      "include_colab_link": true
    },
    "kernelspec": {
      "name": "python3",
      "display_name": "Python 3"
    }
  },
  "cells": [
    {
      "cell_type": "markdown",
      "metadata": {
        "id": "view-in-github",
        "colab_type": "text"
      },
      "source": [
        "<a href=\"https://colab.research.google.com/github/david-chu0418/Computational-Thinking/blob/master/week12.ipynb\" target=\"_parent\"><img src=\"https://colab.research.google.com/assets/colab-badge.svg\" alt=\"Open In Colab\"/></a>"
      ]
    },
    {
      "cell_type": "code",
      "metadata": {
        "colab": {
          "base_uri": "https://localhost:8080/"
        },
        "id": "j4TCjeNJZXRe",
        "outputId": "eb2b954e-9469-4bd3-9254-75367f8b986a"
      },
      "source": [
        " shopping_list = ['牛奶', '蛋', '咖啡豆', '蓮霧', '泡麵']\n",
        " print(shopping_list)"
      ],
      "execution_count": 2,
      "outputs": [
        {
          "output_type": "stream",
          "text": [
            "['牛奶', '蛋', '咖啡豆', '蓮霧', '泡麵']\n"
          ],
          "name": "stdout"
        }
      ]
    },
    {
      "cell_type": "code",
      "metadata": {
        "colab": {
          "base_uri": "https://localhost:8080/"
        },
        "id": "iCuzZQ0BhKDZ",
        "outputId": "eed9a588-540c-422e-f6e7-ab957302cb73"
      },
      "source": [
        "# NBA冠軍賽的六筆資訊\n",
        "season = \"2017-2018\"\n",
        "team = \"Golden State Warriors\"\n",
        "coach = \"Stephen Douglas Steve Kerr\"\n",
        "records = [58, 24]\n",
        "starting = [\"Wardell Stephen Curry II\", \"Kevin Wayne Durant\", \"Draymond Jamal Green Sr\", \"Alexander Klay Thompson\", \"JaVale Lindy McGee\"]\n",
        "champion = True\n",
        "# 變數best_NBA 賦值串列 \n",
        "best_NBA = list((season, team, coach, records, starting,champion))\n",
        "print(best_NBA)\n",
        "['2017-2018', 'Golden State Warriors', 'Stephen Douglas Steve Kerr', [58, 24], 'Wardell Stephen Curry II', 'Kevin Wayne Durant', 'Draymond Jamal Green Sr', 'Alexander Klay Thompson', 'JaVale Lindy McGee'] \n",
        "# indexing 索引\n",
        "print(best_NBA[-2])\n",
        "['Wardell Stephen Curry II', 'Kevin Wayne Durant', 'Draymond Jamal Green Sr', 'Alexander Klay Thompson', 'JaVale Lindy McGee']\n",
        "# slicing 切片\n",
        "print(best_NBA[0:4])\n",
        "['Golden State Warriors', 'Stephen Douglas Steve Kerr', [58, 24]]"
      ],
      "execution_count": 36,
      "outputs": [
        {
          "output_type": "stream",
          "text": [
            "['2017-2018', 'Golden State Warriors', 'Stephen Douglas Steve Kerr', [58, 24], ['Wardell Stephen Curry II', 'Kevin Wayne Durant', 'Draymond Jamal Green Sr', 'Alexander Klay Thompson', 'JaVale Lindy McGee'], True]\n",
            "['Wardell Stephen Curry II', 'Kevin Wayne Durant', 'Draymond Jamal Green Sr', 'Alexander Klay Thompson', 'JaVale Lindy McGee']\n",
            "['2017-2018', 'Golden State Warriors', 'Stephen Douglas Steve Kerr', [58, 24]]\n"
          ],
          "name": "stdout"
        },
        {
          "output_type": "execute_result",
          "data": {
            "text/plain": [
              "['Golden State Warriors', 'Stephen Douglas Steve Kerr', [58, 24]]"
            ]
          },
          "metadata": {
            "tags": []
          },
          "execution_count": 36
        }
      ]
    }
  ]
}