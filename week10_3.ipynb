{
  "nbformat": 4,
  "nbformat_minor": 0,
  "metadata": {
    "colab": {
      "name": "week10-3.ipynb",
      "provenance": [],
      "authorship_tag": "ABX9TyP9pmit0QDSSXWUE6oOeXk0",
      "include_colab_link": true
    },
    "kernelspec": {
      "name": "python3",
      "display_name": "Python 3"
    }
  },
  "cells": [
    {
      "cell_type": "markdown",
      "metadata": {
        "id": "view-in-github",
        "colab_type": "text"
      },
      "source": [
        "<a href=\"https://colab.research.google.com/github/david-chu0418/Computational-Thinking/blob/master/week10_3.ipynb\" target=\"_parent\"><img src=\"https://colab.research.google.com/assets/colab-badge.svg\" alt=\"Open In Colab\"/></a>"
      ]
    },
    {
      "cell_type": "code",
      "metadata": {
        "colab": {
          "base_uri": "https://localhost:8080/"
        },
        "id": "qLDCVkKhpyyC",
        "outputId": "91cd0a77-5b67-4191-d977-7c47c5a7f7b1"
      },
      "source": [
        "number=int(input(\"請輸入座號?\"))\n",
        "team=(number//5.5)\n",
        "team_number=(team+1)\n",
        "print(f\"組別為{team_number}\")"
      ],
      "execution_count": 9,
      "outputs": [
        {
          "output_type": "stream",
          "text": [
            "請輸入座號?5\n",
            "組別為1.0\n"
          ],
          "name": "stdout"
        }
      ]
    }
  ]
}